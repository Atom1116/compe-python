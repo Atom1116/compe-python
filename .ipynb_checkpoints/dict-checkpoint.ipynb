{
 "cells": [
  {
   "cell_type": "code",
   "execution_count": 4,
   "id": "f25c0615",
   "metadata": {},
   "outputs": [],
   "source": [
    "dictinonary = {\n",
    "    'A': '今西',\n",
    "    'B': '公平',\n",
    "    'D': '男性',\n",
    "    'E': '東京都',\n",
    "    'F': '海外旅行'\n",
    "}"
   ]
  },
  {
   "cell_type": "code",
   "execution_count": 6,
   "id": "36c4b3a4",
   "metadata": {},
   "outputs": [
    {
     "data": {
      "text/plain": [
       "{'A': '今西', 'B': '公平', 'D': '男性', 'E': '東京都', 'F': '海外旅行'}"
      ]
     },
     "execution_count": 6,
     "metadata": {},
     "output_type": "execute_result"
    }
   ],
   "source": [
    "dictinonary"
   ]
  },
  {
   "cell_type": "code",
   "execution_count": 8,
   "id": "30146d48",
   "metadata": {},
   "outputs": [
    {
     "data": {
      "text/plain": [
       "dict_keys(['A', 'B', 'D', 'E', 'F'])"
      ]
     },
     "execution_count": 8,
     "metadata": {},
     "output_type": "execute_result"
    }
   ],
   "source": [
    "dictionary.keys()"
   ]
  },
  {
   "cell_type": "code",
   "execution_count": 11,
   "id": "39bf4bd8",
   "metadata": {},
   "outputs": [
    {
     "data": {
      "text/plain": [
       "True"
      ]
     },
     "execution_count": 11,
     "metadata": {},
     "output_type": "execute_result"
    }
   ],
   "source": [
    "'男性' in dictionary.values()"
   ]
  },
  {
   "cell_type": "code",
   "execution_count": 13,
   "id": "52483c3b",
   "metadata": {},
   "outputs": [
    {
     "name": "stdout",
     "output_type": "stream",
     "text": [
      "A 今西\n",
      "B 公平\n",
      "D 男性\n",
      "E 東京都\n",
      "F 海外旅行\n"
     ]
    }
   ],
   "source": [
    "for key, value in dictionary.items():\n",
    "    print(key, value)"
   ]
  },
  {
   "cell_type": "code",
   "execution_count": 20,
   "id": "70fe97c1",
   "metadata": {},
   "outputs": [
    {
     "name": "stdout",
     "output_type": "stream",
     "text": [
      "None\n",
      "<class 'NoneType'>\n"
     ]
    }
   ],
   "source": [
    "x = dictionary.get('G')\n",
    "print(x)\n",
    "print(type(dictionary.get('G')))"
   ]
  },
  {
   "cell_type": "code",
   "execution_count": null,
   "id": "4efaf2bf",
   "metadata": {},
   "outputs": [],
   "source": []
  }
 ],
 "metadata": {
  "kernelspec": {
   "display_name": "Python 3 (ipykernel)",
   "language": "python",
   "name": "python3"
  },
  "language_info": {
   "codemirror_mode": {
    "name": "ipython",
    "version": 3
   },
   "file_extension": ".py",
   "mimetype": "text/x-python",
   "name": "python",
   "nbconvert_exporter": "python",
   "pygments_lexer": "ipython3",
   "version": "3.7.3"
  }
 },
 "nbformat": 4,
 "nbformat_minor": 5
}
