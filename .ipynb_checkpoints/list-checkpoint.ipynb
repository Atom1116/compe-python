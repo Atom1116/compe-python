{
 "cells": [
  {
   "cell_type": "code",
   "execution_count": 3,
   "id": "c376bee5",
   "metadata": {},
   "outputs": [],
   "source": [
    "numbers = [0, 2, 8, -4, 1]"
   ]
  },
  {
   "cell_type": "code",
   "execution_count": 6,
   "id": "a8a6d5e2",
   "metadata": {},
   "outputs": [
    {
     "data": {
      "text/plain": [
       "2"
      ]
     },
     "execution_count": 6,
     "metadata": {},
     "output_type": "execute_result"
    }
   ],
   "source": [
    "numbers[1]"
   ]
  },
  {
   "cell_type": "code",
   "execution_count": 8,
   "id": "33b74efd",
   "metadata": {},
   "outputs": [
    {
     "data": {
      "text/plain": [
       "1"
      ]
     },
     "execution_count": 8,
     "metadata": {},
     "output_type": "execute_result"
    }
   ],
   "source": [
    "numbers[-1]"
   ]
  },
  {
   "cell_type": "code",
   "execution_count": 11,
   "id": "b1f9f229",
   "metadata": {},
   "outputs": [],
   "source": [
    "numbers.append(2)"
   ]
  },
  {
   "cell_type": "code",
   "execution_count": 13,
   "id": "5767b809",
   "metadata": {},
   "outputs": [
    {
     "data": {
      "text/plain": [
       "[0, 2, 8, -4, 1, 2, 2, 2]"
      ]
     },
     "execution_count": 13,
     "metadata": {},
     "output_type": "execute_result"
    }
   ],
   "source": [
    "numbers"
   ]
  },
  {
   "cell_type": "code",
   "execution_count": 16,
   "id": "772f1078",
   "metadata": {},
   "outputs": [
    {
     "data": {
      "text/plain": [
       "[0, 10, 10, 10, 2, 8, -4, 1, 2, 2, 2]"
      ]
     },
     "execution_count": 16,
     "metadata": {},
     "output_type": "execute_result"
    }
   ],
   "source": [
    "numbers.insert(1, 10)\n",
    "numbers"
   ]
  },
  {
   "cell_type": "code",
   "execution_count": 22,
   "id": "f825f832",
   "metadata": {},
   "outputs": [],
   "source": [
    "numbers.insert(-1, -5)"
   ]
  },
  {
   "cell_type": "code",
   "execution_count": 24,
   "id": "e67f4c64",
   "metadata": {},
   "outputs": [
    {
     "data": {
      "text/plain": [
       "[5, 5, 0, 10, 10, 10, 2, 8, -4, 1, 2, 2, 5, -5, 2]"
      ]
     },
     "execution_count": 24,
     "metadata": {},
     "output_type": "execute_result"
    }
   ],
   "source": [
    "numbers"
   ]
  },
  {
   "cell_type": "code",
   "execution_count": 28,
   "id": "65684c8c",
   "metadata": {},
   "outputs": [],
   "source": [
    "numbers.remove(5)"
   ]
  },
  {
   "cell_type": "code",
   "execution_count": 30,
   "id": "68ef3f97",
   "metadata": {},
   "outputs": [
    {
     "data": {
      "text/plain": [
       "[0, 10, 10, 10, 2, 8, -4, 1, 2, 2, -5, 2]"
      ]
     },
     "execution_count": 30,
     "metadata": {},
     "output_type": "execute_result"
    }
   ],
   "source": [
    "numbers"
   ]
  },
  {
   "cell_type": "code",
   "execution_count": 34,
   "id": "0d8d3e6e",
   "metadata": {},
   "outputs": [
    {
     "data": {
      "text/plain": [
       "-4"
      ]
     },
     "execution_count": 34,
     "metadata": {},
     "output_type": "execute_result"
    }
   ],
   "source": [
    "numbers.pop(-3)"
   ]
  },
  {
   "cell_type": "code",
   "execution_count": 36,
   "id": "3cc31d75",
   "metadata": {},
   "outputs": [],
   "source": [
    "def isEven(numer):\n",
    "    if numer % 2 == 0:\n",
    "        print(f'This numer, {numer} is even!')\n",
    "        return True\n",
    "    else:\n",
    "        print(f'This numer, {numer} is odd')\n",
    "        return False"
   ]
  },
  {
   "cell_type": "code",
   "execution_count": 41,
   "id": "237ebdfd",
   "metadata": {},
   "outputs": [
    {
     "name": "stdout",
     "output_type": "stream",
     "text": [
      "This numer, 0 is even!\n",
      "This numer, 10 is even!\n",
      "This numer, 10 is even!\n",
      "This numer, 10 is even!\n",
      "This numer, 2 is even!\n",
      "This numer, 8 is even!\n",
      "This numer, -5 is odd\n",
      "This numer, 2 is even!\n"
     ]
    },
    {
     "data": {
      "text/plain": [
       "[0, 10, 10, 10, 2, 8, 2]"
      ]
     },
     "execution_count": 41,
     "metadata": {},
     "output_type": "execute_result"
    }
   ],
   "source": [
    "list(filter(isEven, numbers))"
   ]
  },
  {
   "cell_type": "code",
   "execution_count": 46,
   "id": "8b487e4e",
   "metadata": {},
   "outputs": [
    {
     "data": {
      "text/plain": [
       "1"
      ]
     },
     "execution_count": 46,
     "metadata": {},
     "output_type": "execute_result"
    }
   ],
   "source": [
    "numbers.index(10)"
   ]
  },
  {
   "cell_type": "code",
   "execution_count": 51,
   "id": "f75c91fb",
   "metadata": {},
   "outputs": [
    {
     "data": {
      "text/plain": [
       "[10, 10, 10, 8, 2, 2, 0, -5]"
      ]
     },
     "execution_count": 51,
     "metadata": {},
     "output_type": "execute_result"
    }
   ],
   "source": [
    "numbers.sort(reverse=True)\n",
    "numbers"
   ]
  },
  {
   "cell_type": "code",
   "execution_count": null,
   "id": "d3fbd316",
   "metadata": {},
   "outputs": [],
   "source": []
  },
  {
   "cell_type": "code",
   "execution_count": 53,
   "id": "20f093a4",
   "metadata": {},
   "outputs": [
    {
     "name": "stdout",
     "output_type": "stream",
     "text": [
      "祐一 加藤\n",
      "卓也 佐藤\n",
      "太郎 田中\n"
     ]
    }
   ],
   "source": [
    "lasts = ['加藤', '佐藤', '田中']\n",
    "firsts = ['祐一', '卓也', '太郎']\n",
    "for last, first in zip(lasts, firsts):\n",
    "    print(first, last)"
   ]
  },
  {
   "cell_type": "code",
   "execution_count": 57,
   "id": "92cc9bdf",
   "metadata": {},
   "outputs": [
    {
     "name": "stdout",
     "output_type": "stream",
     "text": [
      "0番目の加藤です\n",
      "1番目の佐藤です\n",
      "2番目の田中です\n"
     ]
    }
   ],
   "source": [
    "for i,  last in enumerate(lasts):\n",
    "    print(f'{i}番目の{last}です')"
   ]
  },
  {
   "cell_type": "code",
   "execution_count": 59,
   "id": "d80a8c6b",
   "metadata": {},
   "outputs": [
    {
     "data": {
      "text/plain": [
       "[]"
      ]
     },
     "execution_count": 59,
     "metadata": {},
     "output_type": "execute_result"
    }
   ],
   "source": [
    "nums = []\n",
    "nums"
   ]
  },
  {
   "cell_type": "code",
   "execution_count": 61,
   "id": "7434af27",
   "metadata": {},
   "outputs": [],
   "source": [
    "for i in range(10):\n",
    "    nums.append(i*2)"
   ]
  },
  {
   "cell_type": "code",
   "execution_count": 63,
   "id": "77d440ba",
   "metadata": {},
   "outputs": [
    {
     "data": {
      "text/plain": [
       "[0, 2, 4, 6, 8, 10, 12, 14, 16, 18, 0, 2, 4, 6, 8, 10, 12, 14, 16, 18]"
      ]
     },
     "execution_count": 63,
     "metadata": {},
     "output_type": "execute_result"
    }
   ],
   "source": [
    "nums"
   ]
  },
  {
   "cell_type": "code",
   "execution_count": 67,
   "id": "d60577b6",
   "metadata": {},
   "outputs": [
    {
     "data": {
      "text/plain": [
       "[0, 2, 4, 6, 8, 10, 12, 14, 16, 18]"
      ]
     },
     "execution_count": 67,
     "metadata": {},
     "output_type": "execute_result"
    }
   ],
   "source": [
    "numbers = [i *2 for i in range(10)]\n",
    "numbers"
   ]
  },
  {
   "cell_type": "code",
   "execution_count": 68,
   "id": "550abe6c",
   "metadata": {},
   "outputs": [
    {
     "name": "stdout",
     "output_type": "stream",
     "text": [
      "division by zero\n"
     ]
    }
   ],
   "source": [
    "num = 0\n",
    "try:\n",
    "    print(f'計算結果：{10/num}')\n",
    "except ZeroDivisionError as e:\n",
    "    print(e)\n",
    "except TypeError as e:\n",
    "    print(e)"
   ]
  }
 ],
 "metadata": {
  "kernelspec": {
   "display_name": "Python 3 (ipykernel)",
   "language": "python",
   "name": "python3"
  },
  "language_info": {
   "codemirror_mode": {
    "name": "ipython",
    "version": 3
   },
   "file_extension": ".py",
   "mimetype": "text/x-python",
   "name": "python",
   "nbconvert_exporter": "python",
   "pygments_lexer": "ipython3",
   "version": "3.7.3"
  }
 },
 "nbformat": 4,
 "nbformat_minor": 5
}
