{
 "cells": [
  {
   "cell_type": "code",
   "execution_count": 1,
   "id": "2246b53e",
   "metadata": {},
   "outputs": [
    {
     "name": "stdout",
     "output_type": "stream",
     "text": [
      "Hello, World\n"
     ]
    }
   ],
   "source": [
    "print('Hello, World')"
   ]
  },
  {
   "cell_type": "code",
   "execution_count": 2,
   "id": "159b79a8",
   "metadata": {},
   "outputs": [
    {
     "name": "stdout",
     "output_type": "stream",
     "text": [
      "Package             Version\r\n",
      "------------------- --------\r\n",
      "appnope             0.1.2\r\n",
      "argcomplete         1.12.3\r\n",
      "argon2-cffi         20.1.0\r\n",
      "attrs               21.2.0\r\n",
      "backcall            0.2.0\r\n",
      "bleach              4.1.0\r\n",
      "cffi                1.14.6\r\n",
      "debugpy             1.4.1\r\n",
      "decorator           5.0.9\r\n",
      "defusedxml          0.7.1\r\n",
      "entrypoints         0.3\r\n",
      "importlib-metadata  4.7.1\r\n",
      "ipykernel           6.2.0\r\n",
      "ipython             7.26.0\r\n",
      "ipython-genutils    0.2.0\r\n",
      "ipywidgets          7.6.3\r\n",
      "jedi                0.18.0\r\n",
      "Jinja2              3.0.1\r\n",
      "jsonschema          3.2.0\r\n",
      "jupyter             1.0.0\r\n",
      "jupyter-client      7.0.1\r\n",
      "jupyter-console     6.4.0\r\n",
      "jupyter-core        4.7.1\r\n",
      "jupyterlab-pygments 0.1.2\r\n",
      "jupyterlab-widgets  1.0.0\r\n",
      "MarkupSafe          2.0.1\r\n",
      "matplotlib-inline   0.1.2\r\n",
      "mistune             0.8.4\r\n",
      "nbclient            0.5.4\r\n",
      "nbconvert           6.1.0\r\n",
      "nbformat            5.1.3\r\n",
      "nest-asyncio        1.5.1\r\n",
      "notebook            6.4.3\r\n",
      "packaging           21.0\r\n",
      "pandocfilters       1.4.3\r\n",
      "parso               0.8.2\r\n",
      "pexpect             4.8.0\r\n",
      "pickleshare         0.7.5\r\n",
      "pip                 21.2.4\r\n",
      "prometheus-client   0.11.0\r\n",
      "prompt-toolkit      3.0.20\r\n",
      "ptyprocess          0.7.0\r\n",
      "pycparser           2.20\r\n",
      "Pygments            2.10.0\r\n",
      "pyparsing           2.4.7\r\n",
      "pyrsistent          0.18.0\r\n",
      "python-dateutil     2.8.2\r\n",
      "pyzmq               22.2.1\r\n",
      "qtconsole           5.1.1\r\n",
      "QtPy                1.10.0\r\n",
      "Send2Trash          1.8.0\r\n",
      "setuptools          40.8.0\r\n",
      "six                 1.16.0\r\n",
      "terminado           0.11.1\r\n",
      "testpath            0.5.0\r\n",
      "tornado             6.1\r\n",
      "traitlets           5.0.5\r\n",
      "typing-extensions   3.10.0.0\r\n",
      "wcwidth             0.2.5\r\n",
      "webencodings        0.5.1\r\n",
      "widgetsnbextension  3.5.1\r\n",
      "zipp                3.5.0\r\n"
     ]
    }
   ],
   "source": [
    "!pip list"
   ]
  },
  {
   "cell_type": "code",
   "execution_count": null,
   "id": "d6f2206c",
   "metadata": {},
   "outputs": [],
   "source": []
  }
 ],
 "metadata": {
  "kernelspec": {
   "display_name": "Python 3 (ipykernel)",
   "language": "python",
   "name": "python3"
  },
  "language_info": {
   "codemirror_mode": {
    "name": "ipython",
    "version": 3
   },
   "file_extension": ".py",
   "mimetype": "text/x-python",
   "name": "python",
   "nbconvert_exporter": "python",
   "pygments_lexer": "ipython3",
   "version": "3.7.3"
  }
 },
 "nbformat": 4,
 "nbformat_minor": 5
}
