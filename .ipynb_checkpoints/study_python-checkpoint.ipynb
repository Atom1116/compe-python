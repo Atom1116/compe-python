{
 "cells": [
  {
   "cell_type": "code",
   "execution_count": 1,
   "id": "7a0f85be",
   "metadata": {},
   "outputs": [
    {
     "data": {
      "text/plain": [
       "'私はいまにゅです。出身は千葉です'"
      ]
     },
     "execution_count": 1,
     "metadata": {},
     "output_type": "execute_result"
    }
   ],
   "source": [
    "name = 'いまにゅ'\n",
    "barhplace = '千葉'\n",
    "\n",
    "'私は{}です。出身は{}です'.format(name, barhplace)"
   ]
  },
  {
   "cell_type": "code",
   "execution_count": 2,
   "id": "1bff4505",
   "metadata": {},
   "outputs": [
    {
     "data": {
      "text/plain": [
       "'私はいまにゅです。出身は千葉です。'"
      ]
     },
     "execution_count": 2,
     "metadata": {},
     "output_type": "execute_result"
    }
   ],
   "source": [
    "f'私は{name}です。出身は{barhplace}です。'"
   ]
  },
  {
   "cell_type": "code",
   "execution_count": 3,
   "id": "1d779c11",
   "metadata": {},
   "outputs": [
    {
     "data": {
      "text/plain": [
       "'いつも通りの帰り道とは違うルートで帰ってみようかな \\n迷子にならないか心配だけど'"
      ]
     },
     "execution_count": 3,
     "metadata": {},
     "output_type": "execute_result"
    }
   ],
   "source": [
    "'いつも通りの帰り道とは違うルートで帰ってみようかな \\n迷子にならないか心配だけど'"
   ]
  },
  {
   "cell_type": "code",
   "execution_count": 4,
   "id": "9a41341d",
   "metadata": {},
   "outputs": [
    {
     "name": "stdout",
     "output_type": "stream",
     "text": [
      "いつも通りの帰り道とは違うルートで帰ってみようかな \n",
      "迷子にならないか心配だけど\n"
     ]
    }
   ],
   "source": [
    "print('いつも通りの帰り道とは違うルートで帰ってみようかな \\n迷子にならないか心配だけど')"
   ]
  },
  {
   "cell_type": "code",
   "execution_count": 6,
   "id": "352fb511",
   "metadata": {},
   "outputs": [
    {
     "name": "stdout",
     "output_type": "stream",
     "text": [
      "10進数= 16 16進数=10 10進浮動小数= 10.000000\n"
     ]
    }
   ],
   "source": [
    "print(\"10進数= %d 16進数=%x 10進浮動小数= %f\" % (16, 16, 10))"
   ]
  },
  {
   "cell_type": "code",
   "execution_count": 9,
   "id": "9fd5a32d",
   "metadata": {},
   "outputs": [
    {
     "data": {
      "text/plain": [
       "'hello'"
      ]
     },
     "execution_count": 9,
     "metadata": {},
     "output_type": "execute_result"
    }
   ],
   "source": [
    "'hello'.upper()\n",
    "'Hello'.lower()"
   ]
  },
  {
   "cell_type": "code",
   "execution_count": 18,
   "id": "d9424dbc",
   "metadata": {},
   "outputs": [
    {
     "data": {
      "text/plain": [
       "['コンニチワ,ワタシハAIロボットデス']"
      ]
     },
     "execution_count": 18,
     "metadata": {},
     "output_type": "execute_result"
    }
   ],
   "source": [
    "message = 'コンニチワ,ワタシハAIロボットデス'\n",
    "messages = message.split()\n",
    "messages"
   ]
  },
  {
   "cell_type": "code",
   "execution_count": 19,
   "id": "dc5ce4a8",
   "metadata": {},
   "outputs": [
    {
     "data": {
      "text/plain": [
       "'コンニチワ,ワタシハAIロボットデス'"
      ]
     },
     "execution_count": 19,
     "metadata": {},
     "output_type": "execute_result"
    }
   ],
   "source": [
    "''.join(messages)"
   ]
  },
  {
   "cell_type": "code",
   "execution_count": 22,
   "id": "bca17145",
   "metadata": {},
   "outputs": [
    {
     "name": "stdout",
     "output_type": "stream",
     "text": [
      "afb いつも食べるここのケーキは美味しいね\n"
     ]
    }
   ],
   "source": [
    "message = ' いつも食べるここのケーキは美味しいね'\n",
    "print(message.strip())"
   ]
  },
  {
   "cell_type": "code",
   "execution_count": 26,
   "id": "54463541",
   "metadata": {},
   "outputs": [
    {
     "name": "stdout",
     "output_type": "stream",
     "text": [
      "今日は雨ですね\n"
     ]
    }
   ],
   "source": [
    "message = '今日は晴れですね'\n",
    "message.replace('晴れ', '雨')\n",
    "print(message.replace('晴れ', '雨'))"
   ]
  },
  {
   "cell_type": "code",
   "execution_count": 28,
   "id": "348568ec",
   "metadata": {},
   "outputs": [
    {
     "data": {
      "text/plain": [
       "11"
      ]
     },
     "execution_count": 28,
     "metadata": {},
     "output_type": "execute_result"
    }
   ],
   "source": [
    "message = '今日はとても夜空が綺麗だ'\n",
    "message.find('だ')"
   ]
  },
  {
   "cell_type": "code",
   "execution_count": null,
   "id": "7ce2efae",
   "metadata": {},
   "outputs": [],
   "source": [
    "x= 1"
   ]
  },
  {
   "cell_type": "code",
   "execution_count": null,
   "id": "3092255e",
   "metadata": {},
   "outputs": [],
   "source": [
    "x = 1.52"
   ]
  },
  {
   "cell_type": "markdown",
   "id": "303120a1",
   "metadata": {},
   "source": []
  },
  {
   "cell_type": "code",
   "execution_count": null,
   "id": "dea6bb3b",
   "metadata": {},
   "outputs": [],
   "source": [
    "x = [1,2,3]"
   ]
  },
  {
   "cell_type": "code",
   "execution_count": 31,
   "id": "5d2475d2",
   "metadata": {},
   "outputs": [
    {
     "name": "stdout",
     "output_type": "stream",
     "text": [
      "{'name': 'john', 'birth': 'us'}\n"
     ]
    }
   ],
   "source": [
    "x = dict(name='john', birth='us')\n",
    "print(str(x))"
   ]
  },
  {
   "cell_type": "code",
   "execution_count": 32,
   "id": "c02ebcea",
   "metadata": {},
   "outputs": [],
   "source": [
    "a, b = 'sba', 'gasba'"
   ]
  },
  {
   "cell_type": "code",
   "execution_count": 35,
   "id": "24159d17",
   "metadata": {},
   "outputs": [
    {
     "data": {
      "text/plain": [
       "True"
      ]
     },
     "execution_count": 35,
     "metadata": {},
     "output_type": "execute_result"
    }
   ],
   "source": [
    "a in b"
   ]
  },
  {
   "cell_type": "code",
   "execution_count": 36,
   "id": "3c3ef3a7",
   "metadata": {},
   "outputs": [
    {
     "data": {
      "text/plain": [
       "False"
      ]
     },
     "execution_count": 36,
     "metadata": {},
     "output_type": "execute_result"
    }
   ],
   "source": [
    "a, b = 'xdh', 'orda'\n",
    "a in b"
   ]
  }
 ],
 "metadata": {
  "kernelspec": {
   "display_name": "Python 3 (ipykernel)",
   "language": "python",
   "name": "python3"
  },
  "language_info": {
   "codemirror_mode": {
    "name": "ipython",
    "version": 3
   },
   "file_extension": ".py",
   "mimetype": "text/x-python",
   "name": "python",
   "nbconvert_exporter": "python",
   "pygments_lexer": "ipython3",
   "version": "3.7.3"
  }
 },
 "nbformat": 4,
 "nbformat_minor": 5
}
