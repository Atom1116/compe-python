{
 "cells": [
  {
   "cell_type": "code",
   "execution_count": 3,
   "id": "e3fbef87",
   "metadata": {},
   "outputs": [],
   "source": [
    "numbers = [0, 2, 8, -4, 1]"
   ]
  },
  {
   "cell_type": "code",
   "execution_count": 6,
   "id": "edb5e442",
   "metadata": {},
   "outputs": [
    {
     "data": {
      "text/plain": [
       "2"
      ]
     },
     "execution_count": 6,
     "metadata": {},
     "output_type": "execute_result"
    }
   ],
   "source": [
    "numbers[1]"
   ]
  },
  {
   "cell_type": "code",
   "execution_count": 8,
   "id": "b19f3ad1",
   "metadata": {},
   "outputs": [
    {
     "data": {
      "text/plain": [
       "1"
      ]
     },
     "execution_count": 8,
     "metadata": {},
     "output_type": "execute_result"
    }
   ],
   "source": [
    "numbers[-1]"
   ]
  },
  {
   "cell_type": "code",
   "execution_count": 11,
   "id": "b985ea68",
   "metadata": {},
   "outputs": [],
   "source": [
    "numbers.append(2)"
   ]
  },
  {
   "cell_type": "code",
   "execution_count": 13,
   "id": "f113754b",
   "metadata": {},
   "outputs": [
    {
     "data": {
      "text/plain": [
       "[0, 2, 8, -4, 1, 2, 2, 2]"
      ]
     },
     "execution_count": 13,
     "metadata": {},
     "output_type": "execute_result"
    }
   ],
   "source": [
    "numbers"
   ]
  },
  {
   "cell_type": "code",
   "execution_count": 16,
   "id": "d6cb0ccb",
   "metadata": {},
   "outputs": [
    {
     "data": {
      "text/plain": [
       "[0, 10, 10, 10, 2, 8, -4, 1, 2, 2, 2]"
      ]
     },
     "execution_count": 16,
     "metadata": {},
     "output_type": "execute_result"
    }
   ],
   "source": [
    "numbers.insert(1, 10)\n",
    "numbers"
   ]
  },
  {
   "cell_type": "code",
   "execution_count": 22,
   "id": "5bc610dc",
   "metadata": {},
   "outputs": [],
   "source": [
    "numbers.insert(-1, -5)"
   ]
  },
  {
   "cell_type": "code",
   "execution_count": 24,
   "id": "e4a7dbb8",
   "metadata": {},
   "outputs": [
    {
     "data": {
      "text/plain": [
       "[5, 5, 0, 10, 10, 10, 2, 8, -4, 1, 2, 2, 5, -5, 2]"
      ]
     },
     "execution_count": 24,
     "metadata": {},
     "output_type": "execute_result"
    }
   ],
   "source": [
    "numbers"
   ]
  },
  {
   "cell_type": "code",
   "execution_count": 28,
   "id": "49be770e",
   "metadata": {},
   "outputs": [],
   "source": [
    "numbers.remove(5)"
   ]
  },
  {
   "cell_type": "code",
   "execution_count": 30,
   "id": "13283127",
   "metadata": {},
   "outputs": [
    {
     "data": {
      "text/plain": [
       "[0, 10, 10, 10, 2, 8, -4, 1, 2, 2, -5, 2]"
      ]
     },
     "execution_count": 30,
     "metadata": {},
     "output_type": "execute_result"
    }
   ],
   "source": [
    "numbers"
   ]
  },
  {
   "cell_type": "code",
   "execution_count": 34,
   "id": "10e3a76a",
   "metadata": {},
   "outputs": [
    {
     "data": {
      "text/plain": [
       "-4"
      ]
     },
     "execution_count": 34,
     "metadata": {},
     "output_type": "execute_result"
    }
   ],
   "source": [
    "numbers.pop(-3)"
   ]
  },
  {
   "cell_type": "code",
   "execution_count": 36,
   "id": "d93d6795",
   "metadata": {},
   "outputs": [],
   "source": [
    "def isEven(numer):\n",
    "    if numer % 2 == 0:\n",
    "        print(f'This numer, {numer} is even!')\n",
    "        return True\n",
    "    else:\n",
    "        print(f'This numer, {numer} is odd')\n",
    "        return False"
   ]
  },
  {
   "cell_type": "code",
   "execution_count": 41,
   "id": "7ada2961",
   "metadata": {},
   "outputs": [
    {
     "name": "stdout",
     "output_type": "stream",
     "text": [
      "This numer, 0 is even!\n",
      "This numer, 10 is even!\n",
      "This numer, 10 is even!\n",
      "This numer, 10 is even!\n",
      "This numer, 2 is even!\n",
      "This numer, 8 is even!\n",
      "This numer, -5 is odd\n",
      "This numer, 2 is even!\n"
     ]
    },
    {
     "data": {
      "text/plain": [
       "[0, 10, 10, 10, 2, 8, 2]"
      ]
     },
     "execution_count": 41,
     "metadata": {},
     "output_type": "execute_result"
    }
   ],
   "source": [
    "list(filter(isEven, numbers))"
   ]
  },
  {
   "cell_type": "code",
   "execution_count": 46,
   "id": "f1d89dea",
   "metadata": {},
   "outputs": [
    {
     "data": {
      "text/plain": [
       "1"
      ]
     },
     "execution_count": 46,
     "metadata": {},
     "output_type": "execute_result"
    }
   ],
   "source": [
    "numbers.index(10)"
   ]
  },
  {
   "cell_type": "code",
   "execution_count": 51,
   "id": "161034a1",
   "metadata": {},
   "outputs": [
    {
     "data": {
      "text/plain": [
       "[10, 10, 10, 8, 2, 2, 0, -5]"
      ]
     },
     "execution_count": 51,
     "metadata": {},
     "output_type": "execute_result"
    }
   ],
   "source": [
    "numbers.sort(reverse=True)\n",
    "numbers"
   ]
  },
  {
   "cell_type": "code",
   "execution_count": null,
   "id": "11b06746",
   "metadata": {},
   "outputs": [],
   "source": []
  },
  {
   "cell_type": "code",
   "execution_count": 53,
   "id": "bf90c4d1",
   "metadata": {},
   "outputs": [
    {
     "name": "stdout",
     "output_type": "stream",
     "text": [
      "祐一 加藤\n",
      "卓也 佐藤\n",
      "太郎 田中\n"
     ]
    }
   ],
   "source": [
    "lasts = ['加藤', '佐藤', '田中']\n",
    "firsts = ['祐一', '卓也', '太郎']\n",
    "for last, first in zip(lasts, firsts):\n",
    "    print(first, last)"
   ]
  },
  {
   "cell_type": "code",
   "execution_count": 57,
   "id": "8595f42c",
   "metadata": {},
   "outputs": [
    {
     "name": "stdout",
     "output_type": "stream",
     "text": [
      "0番目の加藤です\n",
      "1番目の佐藤です\n",
      "2番目の田中です\n"
     ]
    }
   ],
   "source": [
    "for i,  last in enumerate(lasts):\n",
    "    print(f'{i}番目の{last}です')"
   ]
  },
  {
   "cell_type": "code",
   "execution_count": 59,
   "id": "d03aafdb",
   "metadata": {},
   "outputs": [
    {
     "data": {
      "text/plain": [
       "[]"
      ]
     },
     "execution_count": 59,
     "metadata": {},
     "output_type": "execute_result"
    }
   ],
   "source": [
    "nums = []\n",
    "nums"
   ]
  },
  {
   "cell_type": "code",
   "execution_count": 61,
   "id": "f24e759e",
   "metadata": {},
   "outputs": [],
   "source": [
    "for i in range(10):\n",
    "    nums.append(i*2)"
   ]
  },
  {
   "cell_type": "code",
   "execution_count": 63,
   "id": "eed34658",
   "metadata": {},
   "outputs": [
    {
     "data": {
      "text/plain": [
       "[0, 2, 4, 6, 8, 10, 12, 14, 16, 18, 0, 2, 4, 6, 8, 10, 12, 14, 16, 18]"
      ]
     },
     "execution_count": 63,
     "metadata": {},
     "output_type": "execute_result"
    }
   ],
   "source": [
    "nums"
   ]
  },
  {
   "cell_type": "code",
   "execution_count": 67,
   "id": "da8e1635",
   "metadata": {},
   "outputs": [
    {
     "data": {
      "text/plain": [
       "[0, 2, 4, 6, 8, 10, 12, 14, 16, 18]"
      ]
     },
     "execution_count": 67,
     "metadata": {},
     "output_type": "execute_result"
    }
   ],
   "source": [
    "numbers = [i *2 for i in range(10)]\n",
    "numbers"
   ]
  },
  {
   "cell_type": "code",
   "execution_count": 75,
   "id": "764d8085",
   "metadata": {},
   "outputs": [],
   "source": [
    "def divide(a,b):\n",
    "    try:\n",
    "        print(f'計算結果：{a/b}')\n",
    "    except ZeroDivisionError as e:\n",
    "        print(e)\n",
    "    except TypeError as e:\n",
    "        print(e)\n",
    "    finally:\n",
    "        print('全ての処理が終了しました')"
   ]
  },
  {
   "cell_type": "code",
   "execution_count": 77,
   "id": "316c182c",
   "metadata": {},
   "outputs": [
    {
     "name": "stdout",
     "output_type": "stream",
     "text": [
      "division by zero\n",
      "全ての処理が終了しました\n"
     ]
    }
   ],
   "source": [
    "divide(10, 0)"
   ]
  }
 ],
 "metadata": {
  "kernelspec": {
   "display_name": "Python 3 (ipykernel)",
   "language": "python",
   "name": "python3"
  },
  "language_info": {
   "codemirror_mode": {
    "name": "ipython",
    "version": 3
   },
   "file_extension": ".py",
   "mimetype": "text/x-python",
   "name": "python",
   "nbconvert_exporter": "python",
   "pygments_lexer": "ipython3",
   "version": "3.7.3"
  }
 },
 "nbformat": 4,
 "nbformat_minor": 5
}
