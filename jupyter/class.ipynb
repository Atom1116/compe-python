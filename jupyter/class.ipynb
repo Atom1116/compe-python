{
 "cells": [
  {
   "cell_type": "code",
   "execution_count": 2,
   "id": "0db407ee",
   "metadata": {},
   "outputs": [],
   "source": [
    "class Person:\n",
    "    nationality = 'Japan'\n",
    "    \n",
    "    def __init__(self, name):\n",
    "        self.name = name\n",
    "    \n",
    "    def say_hello(self):\n",
    "        print(f'こんにちわ、私の国籍は、{self.nationality}です')\n",
    "    \n",
    "    def say_my_name(self):\n",
    "        print(f'私の名前は{self.name}です')"
   ]
  },
  {
   "cell_type": "code",
   "execution_count": 3,
   "id": "a134786b",
   "metadata": {},
   "outputs": [],
   "source": [
    "hikaru = Person('hirose hikaru')"
   ]
  },
  {
   "cell_type": "code",
   "execution_count": 5,
   "id": "a9a09932",
   "metadata": {},
   "outputs": [
    {
     "name": "stdout",
     "output_type": "stream",
     "text": [
      "こんにちわ、私の国籍は、Japanです\n"
     ]
    }
   ],
   "source": [
    "hikaru.say_hello()"
   ]
  },
  {
   "cell_type": "code",
   "execution_count": 8,
   "id": "f988d090",
   "metadata": {},
   "outputs": [
    {
     "name": "stdout",
     "output_type": "stream",
     "text": [
      "私の名前はhirose hikaruです\n"
     ]
    },
    {
     "data": {
      "text/plain": [
       "'Japan'"
      ]
     },
     "execution_count": 8,
     "metadata": {},
     "output_type": "execute_result"
    }
   ],
   "source": [
    "hikaru.say_my_name()\n",
    "hikaru.nationality"
   ]
  }
 ],
 "metadata": {
  "kernelspec": {
   "display_name": "Python 3 (ipykernel)",
   "language": "python",
   "name": "python3"
  },
  "language_info": {
   "codemirror_mode": {
    "name": "ipython",
    "version": 3
   },
   "file_extension": ".py",
   "mimetype": "text/x-python",
   "name": "python",
   "nbconvert_exporter": "python",
   "pygments_lexer": "ipython3",
   "version": "3.7.3"
  }
 },
 "nbformat": 4,
 "nbformat_minor": 5
}
