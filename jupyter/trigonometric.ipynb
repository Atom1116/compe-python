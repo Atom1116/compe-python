{
 "cells": [
  {
   "cell_type": "code",
   "execution_count": 2,
   "id": "92f9a9dd",
   "metadata": {},
   "outputs": [],
   "source": [
    "import math"
   ]
  },
  {
   "cell_type": "code",
   "execution_count": 4,
   "id": "5476ddc1",
   "metadata": {},
   "outputs": [
    {
     "name": "stdout",
     "output_type": "stream",
     "text": [
      "3.141592653589793\n"
     ]
    }
   ],
   "source": [
    "print(math.pi) # 円周率"
   ]
  },
  {
   "cell_type": "code",
   "execution_count": 11,
   "id": "cae07cec",
   "metadata": {},
   "outputs": [
    {
     "name": "stdout",
     "output_type": "stream",
     "text": [
      "1.0471975511965976\n",
      "0.8660254037844386\n"
     ]
    }
   ],
   "source": [
    "kakudo = 60\n",
    "\n",
    "print(math.radians(kakudo))\n",
    "\n",
    "print(math.sin(math.radians(60))) # 60度のSinを求める"
   ]
  },
  {
   "cell_type": "code",
   "execution_count": 28,
   "id": "b7984450",
   "metadata": {},
   "outputs": [
    {
     "name": "stdout",
     "output_type": "stream",
     "text": [
      "Hello, World\n"
     ]
    }
   ],
   "source": [
    "print('Hello, World')"
   ]
  },
  {
   "cell_type": "code",
   "execution_count": 45,
   "id": "fdfedae9",
   "metadata": {},
   "outputs": [
    {
     "name": "stdout",
     "output_type": "stream",
     "text": [
      "1.2246467991473532e-16\n",
      "-1.0\n"
     ]
    }
   ],
   "source": [
    "degree = 180\n",
    "rad = math.radians(degree)\n",
    "\n",
    "# print(rad)\n",
    "\n",
    "print(math.sin(rad))\n",
    "print(math.cos(rad))"
   ]
  },
  {
   "cell_type": "code",
   "execution_count": 46,
   "id": "0b6a0d7f",
   "metadata": {},
   "outputs": [
    {
     "name": "stdout",
     "output_type": "stream",
     "text": [
      "17.320508075688767\n"
     ]
    }
   ],
   "source": [
    "# X=10 degree =60のy表は？\n",
    "\n",
    "x = 10\n",
    "degee = 60\n",
    "\n",
    "print(x*math.tan(math.radians(degee)))"
   ]
  }
 ],
 "metadata": {
  "kernelspec": {
   "display_name": "Python 3 (ipykernel)",
   "language": "python",
   "name": "python3"
  },
  "language_info": {
   "codemirror_mode": {
    "name": "ipython",
    "version": 3
   },
   "file_extension": ".py",
   "mimetype": "text/x-python",
   "name": "python",
   "nbconvert_exporter": "python",
   "pygments_lexer": "ipython3",
   "version": "3.7.3"
  }
 },
 "nbformat": 4,
 "nbformat_minor": 5
}
